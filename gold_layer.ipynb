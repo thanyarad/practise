{
 "cells": [
  {
   "cell_type": "code",
   "execution_count": 0,
   "metadata": {
    "application/vnd.databricks.v1+cell": {
     "cellMetadata": {
      "byteLimit": 2048000,
      "rowLimit": 10000
     },
     "inputWidgets": {},
     "nuid": "0cb40f43-cf7f-4574-a5fa-b5ad3c90973d",
     "showTitle": false,
     "tableResultSettingsMap": {},
     "title": ""
    }
   },
   "outputs": [],
   "source": [
    "silver_base = \"/Volumes/practise/ecommerce/silver\"\n",
    "gold_base = \"/Volumes/practise/ecommerce/gold\""
   ]
  },
  {
   "cell_type": "code",
   "execution_count": 0,
   "metadata": {
    "application/vnd.databricks.v1+cell": {
     "cellMetadata": {
      "byteLimit": 2048000,
      "rowLimit": 10000
     },
     "inputWidgets": {},
     "nuid": "5bfbee66-d80b-4430-83d4-d46ed5b7fda7",
     "showTitle": false,
     "tableResultSettingsMap": {},
     "title": ""
    }
   },
   "outputs": [],
   "source": [
    "customers_df = spark.read.format(\"delta\").load(silver_base+\"/customers\")\n",
    "products_df = spark.read.format(\"delta\").load(silver_base+\"/products\")\n",
    "orders_df = spark.read.format(\"delta\").load(silver_base+\"/orders\")\n",
    "sales_df = spark.read.format(\"delta\").load(silver_base+\"/sales\")"
   ]
  },
  {
   "cell_type": "code",
   "execution_count": 0,
   "metadata": {
    "application/vnd.databricks.v1+cell": {
     "cellMetadata": {
      "byteLimit": 2048000,
      "rowLimit": 10000
     },
     "inputWidgets": {},
     "nuid": "e8331a03-38ea-4807-8f9b-1323fa10c388",
     "showTitle": false,
     "tableResultSettingsMap": {},
     "title": ""
    }
   },
   "outputs": [],
   "source": [
    "from pyspark.sql.functions import col\n",
    "\n",
    "Overall_df = (\n",
    "    sales_df\n",
    "    .join(orders_df, on='order_id', how='inner')\n",
    "    .join(customers_df, on='customer_id', how='inner')\n",
    "    .join(products_df, sales_df.product_id == products_df.product_ID, how='inner')\n",
    "    .select(\n",
    "        \"order_id\", \"customer_id\", \"customer_name\", \"gender\", \"age\", \"home_address\",\n",
    "        \"zip_code\", \"city\", \"state\", \"country\", \"payment\", \"order_date\", \"delivery_date\",\n",
    "        \"sales_id\", \"price_per_unit\", sales_df[\"product_id\"], sales_df[\"quantity\"].alias(\"sales_quantity\"), \"total_price\",\n",
    "        \"product_type\", \"product_name\", \"size\", \"colour\", products_df[\"price\"].alias(\"product_price\"),\n",
    "        products_df[\"quantity\"].alias(\"product_stock\"), \"description\"\n",
    "    )\n",
    ")\n"
   ]
  },
  {
   "cell_type": "code",
   "execution_count": 0,
   "metadata": {
    "application/vnd.databricks.v1+cell": {
     "cellMetadata": {
      "byteLimit": 2048000,
      "rowLimit": 10000
     },
     "inputWidgets": {},
     "nuid": "7de82544-3cce-45d6-abe5-5e5ad7d6f10c",
     "showTitle": false,
     "tableResultSettingsMap": {},
     "title": ""
    }
   },
   "outputs": [],
   "source": [
    "Overall_df.write.mode(\"overwrite\").format(\"delta\").save(gold_base+\"/overall\")"
   ]
  },
  {
   "cell_type": "code",
   "execution_count": 0,
   "metadata": {
    "application/vnd.databricks.v1+cell": {
     "cellMetadata": {
      "byteLimit": 2048000,
      "rowLimit": 10000
     },
     "inputWidgets": {},
     "nuid": "dfa9b0a4-0da2-4973-bbaa-d5510180ca73",
     "showTitle": false,
     "tableResultSettingsMap": {},
     "title": ""
    }
   },
   "outputs": [],
   "source": [
    "from pyspark.sql.functions import col, sum, desc\n",
    "\n",
    "# Top Customers from final_df\n",
    "top_customers = (\n",
    "    Overall_df.groupBy(\"customer_id\", \"customer_name\")\n",
    "            .agg(sum(\"payment\").alias(\"total_spent\"))\n",
    "            .orderBy(desc(\"total_spent\"))\n",
    "            .limit(10)\n",
    ")\n",
    "top_customers.write.format(\"delta\").mode(\"overwrite\").save(f\"{gold_base}/top_customers\")\n",
    "\n",
    "# Sales by Category from final_df\n",
    "sales_by_category = (\n",
    "    Overall_df.groupBy(\"product_type\")\n",
    "            .agg(sum(\"total_price\").alias(\"total_sales\"))\n",
    "            .orderBy(desc(\"total_sales\"))\n",
    ")\n",
    "sales_by_category.write.format(\"delta\").mode(\"overwrite\").save(f\"{gold_base}/sales_by_category\")\n"
   ]
  }
 ],
 "metadata": {
  "application/vnd.databricks.v1+notebook": {
   "computePreferences": null,
   "dashboards": [],
   "environmentMetadata": {
    "base_environment": "",
    "environment_version": "2"
   },
   "inputWidgetPreferences": null,
   "language": "python",
   "notebookMetadata": {
    "pythonIndentUnit": 4
   },
   "notebookName": "gold_layer",
   "widgets": {}
  },
  "language_info": {
   "name": "python"
  }
 },
 "nbformat": 4,
 "nbformat_minor": 0
}
