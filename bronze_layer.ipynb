{
 "cells": [
  {
   "cell_type": "code",
   "execution_count": 0,
   "metadata": {
    "application/vnd.databricks.v1+cell": {
     "cellMetadata": {
      "byteLimit": 2048000,
      "rowLimit": 10000
     },
     "inputWidgets": {},
     "nuid": "87e876ff-34a6-4170-9e34-ade0d7534ec4",
     "showTitle": false,
     "tableResultSettingsMap": {},
     "title": ""
    }
   },
   "outputs": [],
   "source": [
    "df=spark.read.csv(\"/Volumes/practise/merchant/data/merchant_data.csv\", header= True, inferSchema=True)\n",
    "# df.show(10)\n",
    "display(df)"
   ]
  },
  {
   "cell_type": "code",
   "execution_count": 0,
   "metadata": {
    "application/vnd.databricks.v1+cell": {
     "cellMetadata": {
      "byteLimit": 2048000,
      "rowLimit": 10000
     },
     "inputWidgets": {},
     "nuid": "cc842184-d2fd-4360-9212-62b1649ea375",
     "showTitle": false,
     "tableResultSettingsMap": {},
     "title": ""
    }
   },
   "outputs": [],
   "source": [
    "df = df.withColumnRenamed(\"merchantLink\", \"merchant_link\") \\\n",
    "       .withColumnRenamed(\"merchantName\", \"merchant_name\") \\\n",
    "       .withColumnRenamed(\"productDetails\", \"product_details\") \\\n",
    "       .withColumnRenamed(\"productLink\", \"product_link\") \\\n",
    "       .withColumnRenamed(\"productName\", \"product_name\") \\\n",
    "       .withColumnRenamed(\"reviewsCount\", \"reviews_count\") \\\n",
    "       .withColumnRenamed(\"reviewsScore\", \"reviews_score\") \\\n",
    "       .withColumnRenamed(\"withoutDiscountPrice\", \"without_discount_price\") \\\n",
    "       .withColumnRenamed(\"searchKeyword\", \"search_keyword\")\n"
   ]
  },
  {
   "cell_type": "code",
   "execution_count": 0,
   "metadata": {
    "application/vnd.databricks.v1+cell": {
     "cellMetadata": {
      "byteLimit": 2048000,
      "rowLimit": 10000
     },
     "inputWidgets": {},
     "nuid": "bc8127c5-b8bf-4fe8-acf9-8dfa3d7eb75e",
     "showTitle": false,
     "tableResultSettingsMap": {},
     "title": ""
    }
   },
   "outputs": [],
   "source": [
    "df.printSchema()"
   ]
  },
  {
   "cell_type": "code",
   "execution_count": 0,
   "metadata": {
    "application/vnd.databricks.v1+cell": {
     "cellMetadata": {
      "byteLimit": 2048000,
      "rowLimit": 10000
     },
     "inputWidgets": {},
     "nuid": "b5ccb7d3-a7ab-4c50-8162-7280c33448fc",
     "showTitle": false,
     "tableResultSettingsMap": {},
     "title": ""
    }
   },
   "outputs": [],
   "source": [
    "df.write.format(\"delta\").mode(\"overwrite\").saveAsTable(\"practise.merchant.bronze_merchant\")"
   ]
  }
 ],
 "metadata": {
  "application/vnd.databricks.v1+notebook": {
   "computePreferences": null,
   "dashboards": [],
   "environmentMetadata": {
    "base_environment": "",
    "environment_version": "2"
   },
   "inputWidgetPreferences": null,
   "language": "python",
   "notebookMetadata": {
    "pythonIndentUnit": 4
   },
   "notebookName": "bronze_layer",
   "widgets": {}
  },
  "language_info": {
   "name": "python"
  }
 },
 "nbformat": 4,
 "nbformat_minor": 0
}
