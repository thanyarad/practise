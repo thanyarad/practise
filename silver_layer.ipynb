{
 "cells": [
  {
   "cell_type": "markdown",
   "metadata": {
    "application/vnd.databricks.v1+cell": {
     "cellMetadata": {
      "byteLimit": 2048000,
      "rowLimit": 10000
     },
     "inputWidgets": {},
     "nuid": "ece92c92-f66b-4da8-8af1-c68d27aab3f7",
     "showTitle": false,
     "tableResultSettingsMap": {},
     "title": ""
    }
   },
   "source": [
    "# Silver layer"
   ]
  },
  {
   "cell_type": "code",
   "execution_count": 0,
   "metadata": {
    "application/vnd.databricks.v1+cell": {
     "cellMetadata": {
      "byteLimit": 2048000,
      "rowLimit": 10000
     },
     "inputWidgets": {},
     "nuid": "4f4d651e-57af-4d85-8914-92aead91bebb",
     "showTitle": true,
     "tableResultSettingsMap": {},
     "title": "Define Bronze and Silver Base Paths for E-commerce"
    }
   },
   "outputs": [],
   "source": [
    "bronze_base = \"/Volumes/practise/ecommerce/bronze\"\n",
    "silver_base = \"/Volumes/practise/ecommerce/silver\""
   ]
  },
  {
   "cell_type": "code",
   "execution_count": 0,
   "metadata": {
    "application/vnd.databricks.v1+cell": {
     "cellMetadata": {
      "byteLimit": 2048000,
      "rowLimit": 10000
     },
     "inputWidgets": {},
     "nuid": "492a3dc7-8476-454d-ad7f-4796eb1fad7d",
     "showTitle": true,
     "tableResultSettingsMap": {},
     "title": "Clean and Filter E-commerce Data for Analysis"
    }
   },
   "outputs": [],
   "source": [
    "from pyspark.sql.functions import to_date, col, length\n",
    "\n",
    "# -------------------------\n",
    "# Clean orders table\n",
    "# -------------------------\n",
    "# order_id,customer_id,payment,order_date,delivery_date\n",
    "orders_clean = (\n",
    "    spark.read.format(\"delta\").load(f\"{bronze_base}/order\")\n",
    "        .withColumn(\"delivery_date\", to_date(\"delivery_date\", \"M/d/yyyy HH:mm:ss\"))\n",
    "        .withColumn(\"order_date\", to_date(\"order_date\", \"M/d/yyyy HH:mm:ss\"))\n",
    "        .withColumn(\"payment\", col(\"payment\").cast(\"double\"))\n",
    "        .filter((col(\"order_id\").isNotNull()) & (length(col(\"order_id\")) > 0))\n",
    "        .filter((col(\"customer_id\").isNotNull()) & (length(col(\"customer_id\")) > 0))\n",
    "        .filter((col(\"payment\").isNotNull()) & (col(\"payment\") >= 0))\n",
    "        .filter(col(\"order_date\").isNotNull())\n",
    "        .filter(col(\"delivery_date\").isNotNull())\n",
    ")\n",
    "\n",
    "# -------------------------\n",
    "# Clean customers table\n",
    "# -------------------------\n",
    "# customer_id,customer_name,gender,age,home_address,zip_code,city,state,country\n",
    "customers_clean = (\n",
    "    spark.read.format(\"delta\").load(f\"{bronze_base}/customer\")\n",
    "        .filter((col(\"customer_id\").isNotNull()) & (length(col(\"customer_id\")) > 0))\n",
    "        .filter((col(\"customer_name\").isNotNull()) & (length(col(\"customer_name\")) > 0))\n",
    "        .filter(col(\"gender\").isNotNull())\n",
    "        .filter((col(\"age\").isNotNull()) & (col(\"age\") >= 0) & (col(\"age\") <= 120))\n",
    "        .filter(col(\"home_address\").isNotNull())\n",
    "        .filter(col(\"zip_code\").isNotNull())\n",
    "        .filter(col(\"city\").isNotNull())\n",
    "        .filter(col(\"state\").isNotNull())\n",
    "        .filter(col(\"country\").isNotNull())\n",
    ")\n",
    "\n",
    "# -------------------------\n",
    "# Clean products table\n",
    "# -------------------------\n",
    "# product_ID,product_type,product_name,size,colour,price,quantity,description\n",
    "products_clean = (\n",
    "    spark.read.format(\"delta\").load(f\"{bronze_base}/product\")\n",
    "        .withColumn(\"price\", col(\"price\").cast(\"double\"))\n",
    "        .withColumn(\"quantity\", col(\"quantity\").cast(\"int\"))\n",
    "        .filter((col(\"product_ID\").isNotNull()) & (length(col(\"product_ID\")) > 0))\n",
    "        .filter((col(\"product_name\").isNotNull()) & (length(col(\"product_name\")) > 0))\n",
    "        .filter((col(\"product_type\").isNotNull()) & (length(col(\"product_type\")) > 0))\n",
    "        .filter((col(\"size\").isNotNull()) & (length(col(\"product_ID\")) > 0))\n",
    "        .filter((col(\"price\").isNotNull()) & (col(\"price\") >= 0))\n",
    "        .filter((col(\"quantity\").isNotNull()) & (col(\"quantity\") >= 0))\n",
    "        .filter((col(\"description\").isNotNull()) & (length(col(\"description\")) > 0))\n",
    ")\n",
    "\n",
    "# -------------------------\n",
    "# Clean sales table\n",
    "# -------------------------\n",
    "# sales_id,order_id,product_id,price_per_unit,quantity,total_price\n",
    "sales_clean = (\n",
    "    spark.read.format(\"delta\").load(f\"{bronze_base}/sale\")\n",
    "        .withColumn(\"quantity\", col(\"quantity\").cast(\"int\"))\n",
    "        .withColumn(\"price_per_unit\", col(\"price_per_unit\").cast(\"double\"))\n",
    "        .withColumn(\"total_price\", col(\"total_price\").cast(\"double\"))\n",
    "        .filter((col(\"sales_id\").isNotNull()) & (length(col(\"sales_id\")) > 0))\n",
    "        .filter((col(\"order_id\").isNotNull()) & (length(col(\"order_id\")) > 0))\n",
    "        .filter((col(\"product_id\").isNotNull()) & (length(col(\"product_id\")) > 0))\n",
    "        .filter((col(\"quantity\").isNotNull()) & (col(\"quantity\") > 0))\n",
    "        .filter((col(\"price_per_unit\").isNotNull()) & (col(\"price_per_unit\") >= 0))\n",
    "        .filter((col(\"total_price\").isNotNull()) & (col(\"total_price\") >= 0))\n",
    ")"
   ]
  },
  {
   "cell_type": "code",
   "execution_count": 0,
   "metadata": {
    "application/vnd.databricks.v1+cell": {
     "cellMetadata": {
      "byteLimit": 2048000,
      "rowLimit": 10000
     },
     "inputWidgets": {},
     "nuid": "9c832239-4e8c-4305-8840-50bc46209810",
     "showTitle": false,
     "tableResultSettingsMap": {},
     "title": ""
    }
   },
   "outputs": [],
   "source": [
    "print(silver_base)\n",
    "customers_clean.printSchema()\n",
    "orders_clean.printSchema()\n",
    "products_clean.printSchema()\n",
    "sales_clean.printSchema()"
   ]
  },
  {
   "cell_type": "code",
   "execution_count": 0,
   "metadata": {
    "application/vnd.databricks.v1+cell": {
     "cellMetadata": {
      "byteLimit": 2048000,
      "rowLimit": 10000
     },
     "inputWidgets": {},
     "nuid": "4871a321-950a-4b5c-8517-02244c2a10cf",
     "showTitle": true,
     "tableResultSettingsMap": {},
     "title": "Save Cleaned E-commerce Data to Delta Tables"
    }
   },
   "outputs": [],
   "source": [
    "customers_clean.write.format(\"delta\").mode(\"overwrite\").save(f\"{silver_base}/customers\")\n",
    "orders_clean.write.format(\"delta\").mode(\"overwrite\").save(f\"{silver_base}/orders\")\n",
    "products_clean.write.format(\"delta\").mode(\"overwrite\").save(f\"{silver_base}/products\")\n",
    "sales_clean.write.format(\"delta\").mode(\"overwrite\").save(f\"{silver_base}/sales\")"
   ]
  }
 ],
 "metadata": {
  "application/vnd.databricks.v1+notebook": {
   "computePreferences": null,
   "dashboards": [],
   "environmentMetadata": {
    "base_environment": "",
    "environment_version": "2"
   },
   "inputWidgetPreferences": null,
   "language": "python",
   "notebookMetadata": {
    "pythonIndentUnit": 4
   },
   "notebookName": "silver_layer",
   "widgets": {}
  },
  "language_info": {
   "name": "python"
  }
 },
 "nbformat": 4,
 "nbformat_minor": 0
}
